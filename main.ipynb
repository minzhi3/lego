{
 "cells": [
  {
   "cell_type": "code",
   "execution_count": 155,
   "metadata": {},
   "outputs": [
    {
     "name": "stdout",
     "output_type": "stream",
     "text": [
      "+"
     ]
    }
   ],
   "source": [
    "import cadquery as cq\n",
    "from cadquery import exporters\n",
    "import ocp_vscode\n",
    "import ocp_vscode.backend\n",
    "\n",
    "wall = 1.2\n",
    "stud_radius = 9.5 / 2\n",
    "stud_spacing = 16\n",
    "stud_height = 3.75\n",
    "stud_thickness = wall\n",
    "base_shrink = 0.2\n",
    "inner_cylinder_radius = 6.65\n",
    "inner_cylinder_thickness = wall - 0.2\n",
    "unit_thickness = 9.5\n",
    "ledge_thickness = 1.0\n",
    "ledge_length = 3.2\n",
    "\n",
    "def make_rectangule(height, width, thickness) -> cq.Workplane:\n",
    "    base_height = stud_spacing * height - base_shrink * 2\n",
    "    base_width = stud_spacing * width - base_shrink * 2\n",
    "    base_height_inner = base_height - wall * 2\n",
    "    base_width_inner = base_width - wall * 2\n",
    "    base_thickness = unit_thickness * thickness - 0.1\n",
    "    sketch: cq.Sketch = cq.Workplane().sketch().rect(base_height, base_width)\n",
    "    sketch = sketch.rect(base_height_inner, base_width_inner, mode=\"s\")\n",
    "    \n",
    "    # side\n",
    "    x = stud_spacing * (height / 2 - 1)\n",
    "    y = stud_spacing * (width / 2 - 1)\n",
    "    sketch = sketch.rarray(stud_spacing, stud_spacing, height-1, width-1)\n",
    "    sketch = sketch.circle(inner_cylinder_radius)\n",
    "    sketch = sketch.circle(inner_cylinder_radius - inner_cylinder_thickness, \"s\")\n",
    "    result: cq.Workplane = sketch.finalize()\n",
    "    result = result.extrude(base_thickness).tag(\"base\")\n",
    "    \n",
    "    result = result.faces(\">Z\").workplane(offset=-wall)\n",
    "    result = result.box(base_height, base_width, wall, [True, True, False])\n",
    "    \n",
    "    sketch = result.faces(\">Z\").workplane().sketch()\n",
    "    sketch = sketch.rarray(stud_spacing, stud_spacing, height, width)\n",
    "    result = sketch.circle(stud_radius).circle(stud_radius - stud_thickness, \"s\").finalize()\n",
    "    result = result.extrude(stud_height).tag(\"stud\")\n",
    "\n",
    "    \n",
    "    ledgeX: cq.Workplane = cq.Workplane().sketch()\n",
    "    ledgeX = ledgeX.rarray(base_height - ledge_length, stud_spacing, 2, width)\n",
    "    ledgeX = ledgeX.rect(ledge_length, ledge_thickness).finalize()\n",
    "    ledgeX = ledgeX.extrude(base_thickness, False).tag(\"ledgeX\").edges(\"|Y\").chamfer(2, 0.2)\n",
    "    \n",
    "    ledgeY: cq.Workplane = cq.Workplane().sketch()\n",
    "    ledgeY = ledgeY.rarray(stud_spacing, base_width - ledge_length, height, 2)\n",
    "    ledgeY = ledgeY.rect(ledge_thickness, ledge_length).finalize()\n",
    "    ledgeY = ledgeY.extrude(base_thickness, False).tag(\"ledgeY\").edges(\"|X\").chamfer(2, 0.2)\n",
    "    \n",
    "    result = result.add(ledgeX).add(ledgeY).combine()\n",
    "    \n",
    "    # Add fillets to the base edges\n",
    "    result = result.faces(\">X or <X or >Y or <Y\").edges().fillet(0.6)\n",
    "    result = result.faces(\">Z\").edges().fillet(0.4)\n",
    "    return result\n",
    "\n",
    "def main():\n",
    "    result = make_rectangule(2, 4, 1)\n",
    "    exporters.export(result, \"plate2x4.stl\")\n",
    "    ocp_vscode.show_object(result, clear=True)\n",
    "    \n",
    "main()"
   ]
  }
 ],
 "metadata": {
  "kernelspec": {
   "display_name": "Python 3",
   "language": "python",
   "name": "python3"
  },
  "language_info": {
   "codemirror_mode": {
    "name": "ipython",
    "version": 3
   },
   "file_extension": ".py",
   "mimetype": "text/x-python",
   "name": "python",
   "nbconvert_exporter": "python",
   "pygments_lexer": "ipython3",
   "version": "3.10.11"
  }
 },
 "nbformat": 4,
 "nbformat_minor": 2
}
