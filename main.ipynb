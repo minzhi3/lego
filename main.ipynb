{
 "cells": [
  {
   "cell_type": "code",
   "execution_count": null,
   "metadata": {},
   "outputs": [
    {
     "ename": "AttributeError",
     "evalue": "'LegoFactory' object has no attribute 'make_rectangule'",
     "output_type": "error",
     "traceback": [
      "\u001b[0;31m---------------------------------------------------------------------------\u001b[0m",
      "\u001b[0;31mAttributeError\u001b[0m                            Traceback (most recent call last)",
      "Cell \u001b[0;32mIn[2], line 6\u001b[0m\n\u001b[1;32m      2\u001b[0m \u001b[38;5;28;01mimport\u001b[39;00m \u001b[38;5;21;01mocp_vscode\u001b[39;00m\n\u001b[1;32m      5\u001b[0m factory \u001b[38;5;241m=\u001b[39m LegoFactory()\n\u001b[0;32m----> 6\u001b[0m result \u001b[38;5;241m=\u001b[39m \u001b[43mfactory\u001b[49m\u001b[38;5;241;43m.\u001b[39;49m\u001b[43mmake_rectangule\u001b[49m(\u001b[38;5;241m2\u001b[39m, \u001b[38;5;241m6\u001b[39m, \u001b[38;5;241m1\u001b[39m)\n\u001b[1;32m      7\u001b[0m \u001b[38;5;66;03m# exporters.export(result, \"plate2x4.stl\")\u001b[39;00m\n\u001b[1;32m      8\u001b[0m ocp_vscode\u001b[38;5;241m.\u001b[39mshow_object(result, clear\u001b[38;5;241m=\u001b[39m\u001b[38;5;28;01mTrue\u001b[39;00m)\n",
      "\u001b[0;31mAttributeError\u001b[0m: 'LegoFactory' object has no attribute 'make_rectangule'"
     ]
    }
   ],
   "source": [
    "from lego_factory import LegoFactory\n",
    "import ocp_vscode\n",
    "\n",
    "\n",
    "factory = LegoFactory()\n",
    "result = factory.make_rectangle(2, 6, 1)\n",
    "# exporters.export(result, \"plate2x4.stl\")\n",
    "ocp_vscode.show_object(result, clear=True)"
   ]
  }
 ],
 "metadata": {
  "kernelspec": {
   "display_name": "Python 3",
   "language": "python",
   "name": "python3"
  },
  "language_info": {
   "codemirror_mode": {
    "name": "ipython",
    "version": 3
   },
   "file_extension": ".py",
   "mimetype": "text/x-python",
   "name": "python",
   "nbconvert_exporter": "python",
   "pygments_lexer": "ipython3",
   "version": "3.10.14"
  }
 },
 "nbformat": 4,
 "nbformat_minor": 2
}
